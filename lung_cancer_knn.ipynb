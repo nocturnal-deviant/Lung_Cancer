{
 "cells": [
  {
   "cell_type": "code",
   "execution_count": 1,
   "id": "be5e4001-4eff-452d-a693-1a45a544aecf",
   "metadata": {},
   "outputs": [
    {
     "data": {
      "text/html": [
       "<div>\n",
       "<style scoped>\n",
       "    .dataframe tbody tr th:only-of-type {\n",
       "        vertical-align: middle;\n",
       "    }\n",
       "\n",
       "    .dataframe tbody tr th {\n",
       "        vertical-align: top;\n",
       "    }\n",
       "\n",
       "    .dataframe thead th {\n",
       "        text-align: right;\n",
       "    }\n",
       "</style>\n",
       "<table border=\"1\" class=\"dataframe\">\n",
       "  <thead>\n",
       "    <tr style=\"text-align: right;\">\n",
       "      <th></th>\n",
       "      <th>Name</th>\n",
       "      <th>Surname</th>\n",
       "      <th>Age</th>\n",
       "      <th>Smokes</th>\n",
       "      <th>AreaQ</th>\n",
       "      <th>Alkhol</th>\n",
       "      <th>Result</th>\n",
       "    </tr>\n",
       "  </thead>\n",
       "  <tbody>\n",
       "    <tr>\n",
       "      <th>0</th>\n",
       "      <td>John</td>\n",
       "      <td>Wick</td>\n",
       "      <td>35</td>\n",
       "      <td>3</td>\n",
       "      <td>5</td>\n",
       "      <td>4</td>\n",
       "      <td>1</td>\n",
       "    </tr>\n",
       "    <tr>\n",
       "      <th>1</th>\n",
       "      <td>John</td>\n",
       "      <td>Constantine</td>\n",
       "      <td>27</td>\n",
       "      <td>20</td>\n",
       "      <td>2</td>\n",
       "      <td>5</td>\n",
       "      <td>1</td>\n",
       "    </tr>\n",
       "    <tr>\n",
       "      <th>2</th>\n",
       "      <td>Camela</td>\n",
       "      <td>Anderson</td>\n",
       "      <td>30</td>\n",
       "      <td>0</td>\n",
       "      <td>5</td>\n",
       "      <td>2</td>\n",
       "      <td>0</td>\n",
       "    </tr>\n",
       "    <tr>\n",
       "      <th>3</th>\n",
       "      <td>Alex</td>\n",
       "      <td>Telles</td>\n",
       "      <td>28</td>\n",
       "      <td>0</td>\n",
       "      <td>8</td>\n",
       "      <td>1</td>\n",
       "      <td>0</td>\n",
       "    </tr>\n",
       "    <tr>\n",
       "      <th>4</th>\n",
       "      <td>Diego</td>\n",
       "      <td>Maradona</td>\n",
       "      <td>68</td>\n",
       "      <td>4</td>\n",
       "      <td>5</td>\n",
       "      <td>6</td>\n",
       "      <td>1</td>\n",
       "    </tr>\n",
       "  </tbody>\n",
       "</table>\n",
       "</div>"
      ],
      "text/plain": [
       "     Name      Surname  Age  Smokes  AreaQ  Alkhol  Result\n",
       "0    John         Wick   35       3      5       4       1\n",
       "1    John  Constantine   27      20      2       5       1\n",
       "2  Camela     Anderson   30       0      5       2       0\n",
       "3    Alex       Telles   28       0      8       1       0\n",
       "4   Diego     Maradona   68       4      5       6       1"
      ]
     },
     "execution_count": 1,
     "metadata": {},
     "output_type": "execute_result"
    }
   ],
   "source": [
    "import numpy as np \n",
    "import pandas as pd \n",
    "df=pd.read_csv(\"/home/user/d_set/lung_cancer_.csv\")\n",
    "df.head()"
   ]
  },
  {
   "cell_type": "code",
   "execution_count": 2,
   "id": "aec13fb3-a739-404f-8097-bceffde79fce",
   "metadata": {},
   "outputs": [
    {
     "name": "stdout",
     "output_type": "stream",
     "text": [
      "[[35  3  5  4]\n",
      " [27 20  2  5]\n",
      " [30  0  5  2]\n",
      " [28  0  8  1]\n",
      " [68  4  5  6]\n",
      " [34  0 10  0]\n",
      " [58 15 10  0]\n",
      " [22 12  5  2]\n",
      " [45  2  6  0]\n",
      " [52 18  4  5]\n",
      " [33  4  8  0]\n",
      " [18 10  6  3]\n",
      " [25  2  5  1]\n",
      " [28 20  2  8]\n",
      " [34 25  4  8]\n",
      " [39 18  8  1]\n",
      " [42 22  3  5]\n",
      " [19 12  8  0]\n",
      " [62  5  4  3]\n",
      " [73 10  7  6]\n",
      " [55 15  1  3]\n",
      " [33  8  8  1]\n",
      " [22 20  6  2]\n",
      " [44  5  8  1]\n",
      " [77  3  2  6]\n",
      " [21 20  5  3]\n",
      " [37 15  6  2]\n",
      " [34 12  8  0]\n",
      " [55 20  1  4]\n",
      " [40 20  2  7]\n",
      " [36 13  5  2]\n",
      " [56 20  3  3]\n",
      " [47 15  1  8]\n",
      " [62 25  3  4]\n",
      " [26 10  7  2]\n",
      " [25 20  8  2]\n",
      " [59 20  3  4]\n",
      " [62 15  5  5]\n",
      " [33 25  8  2]\n",
      " [37 10  5  3]\n",
      " [50 20  2  4]\n",
      " [47 12  8  0]\n",
      " [69 20  5  4]\n",
      " [63 20  4  5]\n",
      " [39 15  7  2]\n",
      " [21 20  8  3]\n",
      " [31 20  9  4]\n",
      " [28 10  4  1]\n",
      " [53 20  6  3]\n",
      " [62 20  5  6]\n",
      " [42 12  6  2]\n",
      " [44 30  1  6]\n",
      " [26 34  1  8]\n",
      " [35 20  5  1]\n",
      " [26 13  6  1]\n",
      " [77 20  5  4]\n",
      " [75 15  3  5]\n",
      " [43 30  3  8]\n",
      " [51 25  9  0]]\n",
      "[1 1 0 0 1 0 0 0 0 1 0 0 0 1 1 0 1 0 1 1 1 0 0 0 1 0 0 0 1 1 0 1 1 1 0 0 1\n",
      " 1 0 0 1 0 1 1 0 0 0 0 1 1 0 1 1 0 0 1 1 1 0]\n"
     ]
    }
   ],
   "source": [
    "df1=df.drop(['Name','Surname'],axis=1)\n",
    "# print(df1)\n",
    "x=df1.iloc[:,:-1].values\n",
    "y=df1.iloc[:,-1].values\n",
    "print(x)\n",
    "print(y)"
   ]
  },
  {
   "cell_type": "code",
   "execution_count": 3,
   "id": "e45eb2ba-4fec-41ba-8ba3-93b7098384ae",
   "metadata": {},
   "outputs": [
    {
     "name": "stdout",
     "output_type": "stream",
     "text": [
      "the number of classes Counter({0: 31, 1: 28})\n"
     ]
    }
   ],
   "source": [
    "from collections import Counter\n",
    "print(\"the number of classes\",Counter(y))"
   ]
  },
  {
   "cell_type": "code",
   "execution_count": 23,
   "id": "4f4036ae-7712-455d-8053-d3153c751265",
   "metadata": {},
   "outputs": [
    {
     "name": "stdout",
     "output_type": "stream",
     "text": [
      "[[47 15  1  8]\n",
      " [50 20  2  4]\n",
      " [39 18  8  1]\n",
      " [58 15 10  0]\n",
      " [73 10  7  6]\n",
      " [28  0  8  1]\n",
      " [33  8  8  1]\n",
      " [68  4  5  6]\n",
      " [34  0 10  0]\n",
      " [75 15  3  5]\n",
      " [21 20  5  3]\n",
      " [33 25  8  2]\n",
      " [30  0  5  2]\n",
      " [18 10  6  3]\n",
      " [47 12  8  0]\n",
      " [39 15  7  2]\n",
      " [55 20  1  4]\n",
      " [22 20  6  2]]\n"
     ]
    }
   ],
   "source": [
    "from sklearn.model_selection import train_test_split\n",
    "x_train,x_test,y_train,y_test=train_test_split(x,y,test_size=0.30,random_state=55)\n",
    "print(x_test)"
   ]
  },
  {
   "cell_type": "code",
   "execution_count": 24,
   "id": "336565dc-fb37-40ad-825f-b445bdf544df",
   "metadata": {},
   "outputs": [
    {
     "name": "stdout",
     "output_type": "stream",
     "text": [
      "             Age     Smokes      AreaQ     Alkhol     Result\n",
      "count  59.000000  59.000000  59.000000  59.000000  59.000000\n",
      "mean   42.627119  15.067797   5.203390   3.237288   0.474576\n",
      "std    16.235230   7.984607   2.461984   2.380517   0.503640\n",
      "min    18.000000   0.000000   1.000000   0.000000   0.000000\n",
      "25%    29.000000  10.000000   3.000000   1.000000   0.000000\n",
      "50%    39.000000  15.000000   5.000000   3.000000   0.000000\n",
      "75%    55.000000  20.000000   7.500000   5.000000   1.000000\n",
      "max    77.000000  34.000000  10.000000   8.000000   1.000000\n"
     ]
    }
   ],
   "source": [
    "from sklearn.preprocessing import StandardScaler\n",
    "scaler=StandardScaler()\n",
    "scaler.fit(x_train)\n",
    "x_train=scaler.transform(x_train)\n",
    "x_test=scaler.transform(x_test)\n",
    "print(df.describe())\n",
    "# minmax scaler\n",
    "# from sklearn import preprocessing\n",
    "# import numpy as np\n",
    "# min_max_scaler=preprocessing.MinMaxScaler()\n",
    "# x_train=min_max_scaler.fit\n",
    "# y_train=min_max_scaler.fit\n",
    "# print(x_train)"
   ]
  },
  {
   "cell_type": "code",
   "execution_count": 25,
   "id": "3501d02d-ee36-4f64-882e-0a657949fdc1",
   "metadata": {},
   "outputs": [
    {
     "data": {
      "text/html": [
       "<style>#sk-container-id-4 {color: black;}#sk-container-id-4 pre{padding: 0;}#sk-container-id-4 div.sk-toggleable {background-color: white;}#sk-container-id-4 label.sk-toggleable__label {cursor: pointer;display: block;width: 100%;margin-bottom: 0;padding: 0.3em;box-sizing: border-box;text-align: center;}#sk-container-id-4 label.sk-toggleable__label-arrow:before {content: \"▸\";float: left;margin-right: 0.25em;color: #696969;}#sk-container-id-4 label.sk-toggleable__label-arrow:hover:before {color: black;}#sk-container-id-4 div.sk-estimator:hover label.sk-toggleable__label-arrow:before {color: black;}#sk-container-id-4 div.sk-toggleable__content {max-height: 0;max-width: 0;overflow: hidden;text-align: left;background-color: #f0f8ff;}#sk-container-id-4 div.sk-toggleable__content pre {margin: 0.2em;color: black;border-radius: 0.25em;background-color: #f0f8ff;}#sk-container-id-4 input.sk-toggleable__control:checked~div.sk-toggleable__content {max-height: 200px;max-width: 100%;overflow: auto;}#sk-container-id-4 input.sk-toggleable__control:checked~label.sk-toggleable__label-arrow:before {content: \"▾\";}#sk-container-id-4 div.sk-estimator input.sk-toggleable__control:checked~label.sk-toggleable__label {background-color: #d4ebff;}#sk-container-id-4 div.sk-label input.sk-toggleable__control:checked~label.sk-toggleable__label {background-color: #d4ebff;}#sk-container-id-4 input.sk-hidden--visually {border: 0;clip: rect(1px 1px 1px 1px);clip: rect(1px, 1px, 1px, 1px);height: 1px;margin: -1px;overflow: hidden;padding: 0;position: absolute;width: 1px;}#sk-container-id-4 div.sk-estimator {font-family: monospace;background-color: #f0f8ff;border: 1px dotted black;border-radius: 0.25em;box-sizing: border-box;margin-bottom: 0.5em;}#sk-container-id-4 div.sk-estimator:hover {background-color: #d4ebff;}#sk-container-id-4 div.sk-parallel-item::after {content: \"\";width: 100%;border-bottom: 1px solid gray;flex-grow: 1;}#sk-container-id-4 div.sk-label:hover label.sk-toggleable__label {background-color: #d4ebff;}#sk-container-id-4 div.sk-serial::before {content: \"\";position: absolute;border-left: 1px solid gray;box-sizing: border-box;top: 0;bottom: 0;left: 50%;z-index: 0;}#sk-container-id-4 div.sk-serial {display: flex;flex-direction: column;align-items: center;background-color: white;padding-right: 0.2em;padding-left: 0.2em;position: relative;}#sk-container-id-4 div.sk-item {position: relative;z-index: 1;}#sk-container-id-4 div.sk-parallel {display: flex;align-items: stretch;justify-content: center;background-color: white;position: relative;}#sk-container-id-4 div.sk-item::before, #sk-container-id-4 div.sk-parallel-item::before {content: \"\";position: absolute;border-left: 1px solid gray;box-sizing: border-box;top: 0;bottom: 0;left: 50%;z-index: -1;}#sk-container-id-4 div.sk-parallel-item {display: flex;flex-direction: column;z-index: 1;position: relative;background-color: white;}#sk-container-id-4 div.sk-parallel-item:first-child::after {align-self: flex-end;width: 50%;}#sk-container-id-4 div.sk-parallel-item:last-child::after {align-self: flex-start;width: 50%;}#sk-container-id-4 div.sk-parallel-item:only-child::after {width: 0;}#sk-container-id-4 div.sk-dashed-wrapped {border: 1px dashed gray;margin: 0 0.4em 0.5em 0.4em;box-sizing: border-box;padding-bottom: 0.4em;background-color: white;}#sk-container-id-4 div.sk-label label {font-family: monospace;font-weight: bold;display: inline-block;line-height: 1.2em;}#sk-container-id-4 div.sk-label-container {text-align: center;}#sk-container-id-4 div.sk-container {/* jupyter's `normalize.less` sets `[hidden] { display: none; }` but bootstrap.min.css set `[hidden] { display: none !important; }` so we also need the `!important` here to be able to override the default hidden behavior on the sphinx rendered scikit-learn.org. See: https://github.com/scikit-learn/scikit-learn/issues/21755 */display: inline-block !important;position: relative;}#sk-container-id-4 div.sk-text-repr-fallback {display: none;}</style><div id=\"sk-container-id-4\" class=\"sk-top-container\"><div class=\"sk-text-repr-fallback\"><pre>KNeighborsClassifier()</pre><b>In a Jupyter environment, please rerun this cell to show the HTML representation or trust the notebook. <br />On GitHub, the HTML representation is unable to render, please try loading this page with nbviewer.org.</b></div><div class=\"sk-container\" hidden><div class=\"sk-item\"><div class=\"sk-estimator sk-toggleable\"><input class=\"sk-toggleable__control sk-hidden--visually\" id=\"sk-estimator-id-4\" type=\"checkbox\" checked><label for=\"sk-estimator-id-4\" class=\"sk-toggleable__label sk-toggleable__label-arrow\">KNeighborsClassifier</label><div class=\"sk-toggleable__content\"><pre>KNeighborsClassifier()</pre></div></div></div></div></div>"
      ],
      "text/plain": [
       "KNeighborsClassifier()"
      ]
     },
     "execution_count": 25,
     "metadata": {},
     "output_type": "execute_result"
    }
   ],
   "source": [
    "# from sklearn.neighbors import KNeighborsClassifier\n",
    "# classifier=KNeighborsClassifier(n_neighbors=5)\n",
    "# classifier.fit(x_train,y_train)\n",
    "from sklearn.neighbors import KNeighborsClassifier\n",
    "classifier=KNeighborsClassifier(n_neighbors=5)\n",
    "classifier.fit(x_train,y_train)"
   ]
  },
  {
   "cell_type": "code",
   "execution_count": 26,
   "id": "48fbf47c-8563-4d2b-9842-2f7baa4bd7ce",
   "metadata": {},
   "outputs": [],
   "source": [
    "y_predict=classifier.predict(x_test)"
   ]
  },
  {
   "cell_type": "code",
   "execution_count": 27,
   "id": "0483e4dc-e869-4a87-86b0-5dde20a1678c",
   "metadata": {},
   "outputs": [
    {
     "name": "stdout",
     "output_type": "stream",
     "text": [
      "[1]\n"
     ]
    }
   ],
   "source": [
    "print(classifier.predict([[23,5,3,6]]))\n",
    "# zero=no\n",
    "# one=yes"
   ]
  },
  {
   "cell_type": "code",
   "execution_count": 28,
   "id": "bbecca1b-b8e1-47de-814f-07e7e08b61d7",
   "metadata": {},
   "outputs": [
    {
     "name": "stdout",
     "output_type": "stream",
     "text": [
      "1.0\n"
     ]
    }
   ],
   "source": [
    "from sklearn.metrics import classification_report,confusion_matrix,accuracy_score\n",
    "r1=accuracy_score(y_test,y_predict)\n",
    "print(r1)"
   ]
  },
  {
   "cell_type": "code",
   "execution_count": 29,
   "id": "57999c9c-0419-422a-97f7-fc6a50291d90",
   "metadata": {},
   "outputs": [
    {
     "name": "stdout",
     "output_type": "stream",
     "text": [
      "              precision    recall  f1-score   support\n",
      "\n",
      "           0       1.00      1.00      1.00        12\n",
      "           1       1.00      1.00      1.00         6\n",
      "\n",
      "    accuracy                           1.00        18\n",
      "   macro avg       1.00      1.00      1.00        18\n",
      "weighted avg       1.00      1.00      1.00        18\n",
      "\n"
     ]
    }
   ],
   "source": [
    "r2=classification_report(y_test,y_predict)\n",
    "print(r2)"
   ]
  },
  {
   "cell_type": "code",
   "execution_count": null,
   "id": "13200e0d-3b50-46ff-8d77-e7bcc6ff29d9",
   "metadata": {},
   "outputs": [],
   "source": []
  },
  {
   "cell_type": "code",
   "execution_count": null,
   "id": "566bd7ab-298e-4359-85fd-5fa617a4d627",
   "metadata": {},
   "outputs": [],
   "source": []
  }
 ],
 "metadata": {
  "kernelspec": {
   "display_name": "Python 3 (ipykernel)",
   "language": "python",
   "name": "python3"
  },
  "language_info": {
   "codemirror_mode": {
    "name": "ipython",
    "version": 3
   },
   "file_extension": ".py",
   "mimetype": "text/x-python",
   "name": "python",
   "nbconvert_exporter": "python",
   "pygments_lexer": "ipython3",
   "version": "3.8.10"
  }
 },
 "nbformat": 4,
 "nbformat_minor": 5
}
